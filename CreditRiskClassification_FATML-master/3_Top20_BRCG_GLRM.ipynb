{
 "cells": [
  {
   "cell_type": "code",
   "execution_count": 1,
   "metadata": {},
   "outputs": [
    {
     "name": "stdout",
     "output_type": "stream",
     "text": [
      "Populating the interactive namespace from numpy and matplotlib\n"
     ]
    }
   ],
   "source": [
    "from pandas import DataFrame, Series\n",
    "import pandas as pd\n",
    "%pylab inline"
   ]
  },
  {
   "cell_type": "code",
   "execution_count": 2,
   "metadata": {},
   "outputs": [],
   "source": [
    "train_main = pd.read_csv('home-credit-default-risk/application_train.csv', na_values=['','XNA','XAP'])"
   ]
  },
  {
   "cell_type": "code",
   "execution_count": 3,
   "metadata": {},
   "outputs": [],
   "source": [
    "train_main = train_main[train_main['NAME_FAMILY_STATUS'] != 'Unknown'] #2 records with unknown family status\n",
    "train_main = train_main[train_main['NAME_INCOME_TYPE'] != 'Businessman'] #10 businessman"
   ]
  },
  {
   "cell_type": "code",
   "execution_count": 4,
   "metadata": {},
   "outputs": [],
   "source": [
    "credit_card = pd.read_csv('cleaned_tables/credit_card_summary.csv')\n",
    "POS = pd.read_csv('cleaned_tables/df_POS_final2.csv')\n",
    "install = pd.read_csv('cleaned_tables/df_pay_final2.csv')\n",
    "bureau = pd.read_csv('cleaned_tables/Bureau_features.csv')\n",
    "prev = pd.read_csv('cleaned_tables/prevapp_finally_train.csv')"
   ]
  },
  {
   "cell_type": "code",
   "execution_count": 5,
   "metadata": {},
   "outputs": [
    {
     "data": {
      "text/plain": [
       "10"
      ]
     },
     "execution_count": 5,
     "metadata": {},
     "output_type": "execute_result"
    }
   ],
   "source": [
    "cred_col = credit_card.columns\n",
    "credit_col = cred_col[1:]\n",
    "len(credit_col)\n",
    "POS.drop(['DPD_df_POS','count_df_POS'], axis = 1, inplace = True)\n",
    "POS_col = POS.columns[1:]\n",
    "len(POS_col) #4 extra\n",
    "install_col = install.columns[1:]\n",
    "len(install_col) #12 extra\n",
    "bureau_col = bureau.columns[1:]\n",
    "len(bureau_col) #15 extra\n",
    "prev_col = prev.columns[1:]\n",
    "len(prev_col) # 10 extra"
   ]
  },
  {
   "cell_type": "code",
   "execution_count": 6,
   "metadata": {},
   "outputs": [],
   "source": [
    "df = train_main.merge(credit_card, how = 'left', on = 'SK_ID_CURR')\n",
    "df = df.merge(POS, how = 'left', left_on ='SK_ID_CURR', right_on = 'SK_ID_CURR_df_POS').drop('SK_ID_CURR_df_POS', axis = 1)\n",
    "df = df.merge(install, how = 'left', left_on = 'SK_ID_CURR', right_on = 'SK_ID_CURR_pay').drop('SK_ID_CURR_pay', axis = 1)\n",
    "df = df.merge(bureau, how = 'left', on = 'SK_ID_CURR')\n",
    "df = df.merge(prev, how = 'left', left_on = 'SK_ID_CURR', right_on = 'ID_CURR').drop('ID_CURR',axis = 1)"
   ]
  },
  {
   "cell_type": "code",
   "execution_count": 7,
   "metadata": {},
   "outputs": [
    {
     "data": {
      "text/html": [
       "<div>\n",
       "<style scoped>\n",
       "    .dataframe tbody tr th:only-of-type {\n",
       "        vertical-align: middle;\n",
       "    }\n",
       "\n",
       "    .dataframe tbody tr th {\n",
       "        vertical-align: top;\n",
       "    }\n",
       "\n",
       "    .dataframe thead th {\n",
       "        text-align: right;\n",
       "    }\n",
       "</style>\n",
       "<table border=\"1\" class=\"dataframe\">\n",
       "  <thead>\n",
       "    <tr style=\"text-align: right;\">\n",
       "      <th></th>\n",
       "      <th>SK_ID_CURR</th>\n",
       "      <th>TARGET</th>\n",
       "      <th>NAME_CONTRACT_TYPE</th>\n",
       "      <th>CODE_GENDER</th>\n",
       "      <th>FLAG_OWN_CAR</th>\n",
       "      <th>FLAG_OWN_REALTY</th>\n",
       "      <th>CNT_CHILDREN</th>\n",
       "      <th>AMT_INCOME_TOTAL</th>\n",
       "      <th>AMT_CREDIT</th>\n",
       "      <th>AMT_ANNUITY</th>\n",
       "      <th>...</th>\n",
       "      <th>AMT_APPLICATION</th>\n",
       "      <th>NUM_APPLICATIONS</th>\n",
       "      <th>AMT_APPROVED</th>\n",
       "      <th>PCT_APPROVED</th>\n",
       "      <th>MIN_DAYS_DECISION</th>\n",
       "      <th>PCT_APPL_ON_SAME_DAY</th>\n",
       "      <th>min_term</th>\n",
       "      <th>max_term</th>\n",
       "      <th>mean_term</th>\n",
       "      <th>DAYS_TERMINATION</th>\n",
       "    </tr>\n",
       "  </thead>\n",
       "  <tbody>\n",
       "    <tr>\n",
       "      <th>0</th>\n",
       "      <td>100002</td>\n",
       "      <td>1</td>\n",
       "      <td>Cash loans</td>\n",
       "      <td>M</td>\n",
       "      <td>N</td>\n",
       "      <td>Y</td>\n",
       "      <td>0</td>\n",
       "      <td>202500.0</td>\n",
       "      <td>406597.5</td>\n",
       "      <td>24700.5</td>\n",
       "      <td>...</td>\n",
       "      <td>179055.00</td>\n",
       "      <td>1.0</td>\n",
       "      <td>179055.0</td>\n",
       "      <td>1.000000</td>\n",
       "      <td>-606.0</td>\n",
       "      <td>0.0</td>\n",
       "      <td>24.0</td>\n",
       "      <td>24.0</td>\n",
       "      <td>24.0</td>\n",
       "      <td>-17.0</td>\n",
       "    </tr>\n",
       "    <tr>\n",
       "      <th>1</th>\n",
       "      <td>100003</td>\n",
       "      <td>0</td>\n",
       "      <td>Cash loans</td>\n",
       "      <td>F</td>\n",
       "      <td>N</td>\n",
       "      <td>N</td>\n",
       "      <td>0</td>\n",
       "      <td>270000.0</td>\n",
       "      <td>1293502.5</td>\n",
       "      <td>35698.5</td>\n",
       "      <td>...</td>\n",
       "      <td>1306309.50</td>\n",
       "      <td>3.0</td>\n",
       "      <td>1452573.0</td>\n",
       "      <td>1.000000</td>\n",
       "      <td>-746.0</td>\n",
       "      <td>0.0</td>\n",
       "      <td>6.0</td>\n",
       "      <td>12.0</td>\n",
       "      <td>9.0</td>\n",
       "      <td>-527.0</td>\n",
       "    </tr>\n",
       "    <tr>\n",
       "      <th>2</th>\n",
       "      <td>100004</td>\n",
       "      <td>0</td>\n",
       "      <td>Revolving loans</td>\n",
       "      <td>M</td>\n",
       "      <td>Y</td>\n",
       "      <td>Y</td>\n",
       "      <td>0</td>\n",
       "      <td>67500.0</td>\n",
       "      <td>135000.0</td>\n",
       "      <td>6750.0</td>\n",
       "      <td>...</td>\n",
       "      <td>24282.00</td>\n",
       "      <td>1.0</td>\n",
       "      <td>20106.0</td>\n",
       "      <td>1.000000</td>\n",
       "      <td>-815.0</td>\n",
       "      <td>0.0</td>\n",
       "      <td>4.0</td>\n",
       "      <td>4.0</td>\n",
       "      <td>4.0</td>\n",
       "      <td>-714.0</td>\n",
       "    </tr>\n",
       "    <tr>\n",
       "      <th>3</th>\n",
       "      <td>100006</td>\n",
       "      <td>0</td>\n",
       "      <td>Cash loans</td>\n",
       "      <td>F</td>\n",
       "      <td>N</td>\n",
       "      <td>Y</td>\n",
       "      <td>0</td>\n",
       "      <td>135000.0</td>\n",
       "      <td>312682.5</td>\n",
       "      <td>29686.5</td>\n",
       "      <td>...</td>\n",
       "      <td>2449829.34</td>\n",
       "      <td>9.0</td>\n",
       "      <td>1718644.5</td>\n",
       "      <td>0.555556</td>\n",
       "      <td>-181.0</td>\n",
       "      <td>0.0</td>\n",
       "      <td>0.0</td>\n",
       "      <td>48.0</td>\n",
       "      <td>18.0</td>\n",
       "      <td>0.0</td>\n",
       "    </tr>\n",
       "    <tr>\n",
       "      <th>4</th>\n",
       "      <td>100007</td>\n",
       "      <td>0</td>\n",
       "      <td>Cash loans</td>\n",
       "      <td>M</td>\n",
       "      <td>N</td>\n",
       "      <td>Y</td>\n",
       "      <td>0</td>\n",
       "      <td>121500.0</td>\n",
       "      <td>513000.0</td>\n",
       "      <td>21865.5</td>\n",
       "      <td>...</td>\n",
       "      <td>903181.50</td>\n",
       "      <td>6.0</td>\n",
       "      <td>999832.5</td>\n",
       "      <td>1.000000</td>\n",
       "      <td>-374.0</td>\n",
       "      <td>0.0</td>\n",
       "      <td>18.0</td>\n",
       "      <td>48.0</td>\n",
       "      <td>30.0</td>\n",
       "      <td>0.0</td>\n",
       "    </tr>\n",
       "  </tbody>\n",
       "</table>\n",
       "<p>5 rows × 170 columns</p>\n",
       "</div>"
      ],
      "text/plain": [
       "   SK_ID_CURR  TARGET NAME_CONTRACT_TYPE CODE_GENDER FLAG_OWN_CAR  \\\n",
       "0      100002       1         Cash loans           M            N   \n",
       "1      100003       0         Cash loans           F            N   \n",
       "2      100004       0    Revolving loans           M            Y   \n",
       "3      100006       0         Cash loans           F            N   \n",
       "4      100007       0         Cash loans           M            N   \n",
       "\n",
       "  FLAG_OWN_REALTY  CNT_CHILDREN  AMT_INCOME_TOTAL  AMT_CREDIT  AMT_ANNUITY  \\\n",
       "0               Y             0          202500.0    406597.5      24700.5   \n",
       "1               N             0          270000.0   1293502.5      35698.5   \n",
       "2               Y             0           67500.0    135000.0       6750.0   \n",
       "3               Y             0          135000.0    312682.5      29686.5   \n",
       "4               Y             0          121500.0    513000.0      21865.5   \n",
       "\n",
       "   ...  AMT_APPLICATION NUM_APPLICATIONS AMT_APPROVED PCT_APPROVED  \\\n",
       "0  ...        179055.00              1.0     179055.0     1.000000   \n",
       "1  ...       1306309.50              3.0    1452573.0     1.000000   \n",
       "2  ...         24282.00              1.0      20106.0     1.000000   \n",
       "3  ...       2449829.34              9.0    1718644.5     0.555556   \n",
       "4  ...        903181.50              6.0     999832.5     1.000000   \n",
       "\n",
       "  MIN_DAYS_DECISION PCT_APPL_ON_SAME_DAY  min_term  max_term  mean_term  \\\n",
       "0            -606.0                  0.0      24.0      24.0       24.0   \n",
       "1            -746.0                  0.0       6.0      12.0        9.0   \n",
       "2            -815.0                  0.0       4.0       4.0        4.0   \n",
       "3            -181.0                  0.0       0.0      48.0       18.0   \n",
       "4            -374.0                  0.0      18.0      48.0       30.0   \n",
       "\n",
       "   DAYS_TERMINATION  \n",
       "0             -17.0  \n",
       "1            -527.0  \n",
       "2            -714.0  \n",
       "3               0.0  \n",
       "4               0.0  \n",
       "\n",
       "[5 rows x 170 columns]"
      ]
     },
     "execution_count": 7,
     "metadata": {},
     "output_type": "execute_result"
    }
   ],
   "source": [
    "addl_col = cred_col.append([POS_col, install_col, bureau_col, prev_col]) # append other tables' columns as well\n",
    "df[addl_col] = df[addl_col].fillna(0)\n",
    "df[:5]"
   ]
  },
  {
   "cell_type": "code",
   "execution_count": 8,
   "metadata": {},
   "outputs": [
    {
     "name": "stdout",
     "output_type": "stream",
     "text": [
      "(307499, 168)\n"
     ]
    },
    {
     "data": {
      "text/html": [
       "<div>\n",
       "<style scoped>\n",
       "    .dataframe tbody tr th:only-of-type {\n",
       "        vertical-align: middle;\n",
       "    }\n",
       "\n",
       "    .dataframe tbody tr th {\n",
       "        vertical-align: top;\n",
       "    }\n",
       "\n",
       "    .dataframe thead th {\n",
       "        text-align: right;\n",
       "    }\n",
       "</style>\n",
       "<table border=\"1\" class=\"dataframe\">\n",
       "  <thead>\n",
       "    <tr style=\"text-align: right;\">\n",
       "      <th></th>\n",
       "      <th>NAME_CONTRACT_TYPE</th>\n",
       "      <th>CODE_GENDER</th>\n",
       "      <th>FLAG_OWN_CAR</th>\n",
       "      <th>FLAG_OWN_REALTY</th>\n",
       "      <th>CNT_CHILDREN</th>\n",
       "      <th>AMT_INCOME_TOTAL</th>\n",
       "      <th>AMT_CREDIT</th>\n",
       "      <th>AMT_ANNUITY</th>\n",
       "      <th>AMT_GOODS_PRICE</th>\n",
       "      <th>NAME_TYPE_SUITE</th>\n",
       "      <th>...</th>\n",
       "      <th>AMT_APPLICATION</th>\n",
       "      <th>NUM_APPLICATIONS</th>\n",
       "      <th>AMT_APPROVED</th>\n",
       "      <th>PCT_APPROVED</th>\n",
       "      <th>MIN_DAYS_DECISION</th>\n",
       "      <th>PCT_APPL_ON_SAME_DAY</th>\n",
       "      <th>min_term</th>\n",
       "      <th>max_term</th>\n",
       "      <th>mean_term</th>\n",
       "      <th>DAYS_TERMINATION</th>\n",
       "    </tr>\n",
       "  </thead>\n",
       "  <tbody>\n",
       "    <tr>\n",
       "      <th>0</th>\n",
       "      <td>Cash loans</td>\n",
       "      <td>M</td>\n",
       "      <td>N</td>\n",
       "      <td>Y</td>\n",
       "      <td>0</td>\n",
       "      <td>202500.0</td>\n",
       "      <td>406597.5</td>\n",
       "      <td>24700.5</td>\n",
       "      <td>351000.0</td>\n",
       "      <td>Unaccompanied</td>\n",
       "      <td>...</td>\n",
       "      <td>179055.0</td>\n",
       "      <td>1.0</td>\n",
       "      <td>179055.0</td>\n",
       "      <td>1.0</td>\n",
       "      <td>-606.0</td>\n",
       "      <td>0.0</td>\n",
       "      <td>24.0</td>\n",
       "      <td>24.0</td>\n",
       "      <td>24.0</td>\n",
       "      <td>-17.0</td>\n",
       "    </tr>\n",
       "    <tr>\n",
       "      <th>1</th>\n",
       "      <td>Cash loans</td>\n",
       "      <td>F</td>\n",
       "      <td>N</td>\n",
       "      <td>N</td>\n",
       "      <td>0</td>\n",
       "      <td>270000.0</td>\n",
       "      <td>1293502.5</td>\n",
       "      <td>35698.5</td>\n",
       "      <td>1129500.0</td>\n",
       "      <td>Family</td>\n",
       "      <td>...</td>\n",
       "      <td>1306309.5</td>\n",
       "      <td>3.0</td>\n",
       "      <td>1452573.0</td>\n",
       "      <td>1.0</td>\n",
       "      <td>-746.0</td>\n",
       "      <td>0.0</td>\n",
       "      <td>6.0</td>\n",
       "      <td>12.0</td>\n",
       "      <td>9.0</td>\n",
       "      <td>-527.0</td>\n",
       "    </tr>\n",
       "  </tbody>\n",
       "</table>\n",
       "<p>2 rows × 168 columns</p>\n",
       "</div>"
      ],
      "text/plain": [
       "  NAME_CONTRACT_TYPE CODE_GENDER FLAG_OWN_CAR FLAG_OWN_REALTY  CNT_CHILDREN  \\\n",
       "0         Cash loans           M            N               Y             0   \n",
       "1         Cash loans           F            N               N             0   \n",
       "\n",
       "   AMT_INCOME_TOTAL  AMT_CREDIT  AMT_ANNUITY  AMT_GOODS_PRICE NAME_TYPE_SUITE  \\\n",
       "0          202500.0    406597.5      24700.5         351000.0   Unaccompanied   \n",
       "1          270000.0   1293502.5      35698.5        1129500.0          Family   \n",
       "\n",
       "   ... AMT_APPLICATION NUM_APPLICATIONS AMT_APPROVED PCT_APPROVED  \\\n",
       "0  ...        179055.0              1.0     179055.0          1.0   \n",
       "1  ...       1306309.5              3.0    1452573.0          1.0   \n",
       "\n",
       "   MIN_DAYS_DECISION  PCT_APPL_ON_SAME_DAY  min_term  max_term  mean_term  \\\n",
       "0             -606.0                   0.0      24.0      24.0       24.0   \n",
       "1             -746.0                   0.0       6.0      12.0        9.0   \n",
       "\n",
       "   DAYS_TERMINATION  \n",
       "0             -17.0  \n",
       "1            -527.0  \n",
       "\n",
       "[2 rows x 168 columns]"
      ]
     },
     "execution_count": 8,
     "metadata": {},
     "output_type": "execute_result"
    }
   ],
   "source": [
    "X = df[df.columns[2:]]\n",
    "print(X.shape)\n",
    "X[:2]"
   ]
  },
  {
   "cell_type": "code",
   "execution_count": 9,
   "metadata": {},
   "outputs": [
    {
     "name": "stdout",
     "output_type": "stream",
     "text": [
      "(307499,)\n"
     ]
    }
   ],
   "source": [
    "y = df['TARGET']\n",
    "print(y.shape)"
   ]
  },
  {
   "cell_type": "code",
   "execution_count": 10,
   "metadata": {},
   "outputs": [],
   "source": [
    "from sklearn.model_selection import train_test_split\n",
    "X_train, X_test, y_train, y_test = train_test_split(X, y, test_size=0.2, random_state=1)"
   ]
  },
  {
   "cell_type": "code",
   "execution_count": 11,
   "metadata": {},
   "outputs": [
    {
     "name": "stdout",
     "output_type": "stream",
     "text": [
      "245999 61500 245999 61500\n",
      "0.9190728417595193 0.9200487804878049\n"
     ]
    }
   ],
   "source": [
    "print(len(X_train),len(X_test),len(y_train),len(y_test))\n",
    "print(len(y_train[y_train == 0])/len(y_train),len(y_test[y_test == 0])/len(y_test))"
   ]
  },
  {
   "cell_type": "code",
   "execution_count": 12,
   "metadata": {},
   "outputs": [],
   "source": [
    "X_train_nona = X_train.drop(['APARTMENTS_AVG',\n",
    "'APARTMENTS_MODE',\n",
    "'BASEMENTAREA_AVG',\n",
    "'BASEMENTAREA_MODE',\n",
    "'COMMONAREA_AVG',\n",
    "'COMMONAREA_MODE',\n",
    "'ELEVATORS_AVG',\n",
    "'ELEVATORS_MODE',\n",
    "'ENTRANCES_AVG',\n",
    "'ENTRANCES_MODE',\n",
    "'FLOORSMAX_AVG',\n",
    "'FLOORSMAX_MODE',\n",
    "'FLOORSMIN_AVG',\n",
    "'FLOORSMIN_MODE',\n",
    "'LANDAREA_AVG',\n",
    "'LANDAREA_MODE',\n",
    "'LIVINGAPARTMENTS_AVG',\n",
    "'LIVINGAPARTMENTS_MODE',\n",
    "'LIVINGAREA_AVG',\n",
    "'LIVINGAREA_MODE',\n",
    "'NONLIVINGAPARTMENTS_AVG',\n",
    "'NONLIVINGAPARTMENTS_MODE',\n",
    "'NONLIVINGAREA_AVG',\n",
    "'NONLIVINGAREA_MODE',\n",
    "'YEARS_BEGINEXPLUATATION_AVG',\n",
    "'YEARS_BEGINEXPLUATATION_MEDI',\n",
    "'YEARS_BEGINEXPLUATATION_MODE',\n",
    "'YEARS_BUILD_AVG',\n",
    "'YEARS_BUILD_MODE',\n",
    "'DEF_60_CNT_SOCIAL_CIRCLE',\n",
    "'OBS_60_CNT_SOCIAL_CIRCLE'], axis = 1)\n",
    "\n",
    "X_test_nona = X_test.drop(['APARTMENTS_AVG',\n",
    "'APARTMENTS_MODE',\n",
    "'BASEMENTAREA_AVG',\n",
    "'BASEMENTAREA_MODE',\n",
    "'COMMONAREA_AVG',\n",
    "'COMMONAREA_MODE',\n",
    "'ELEVATORS_AVG',\n",
    "'ELEVATORS_MODE',\n",
    "'ENTRANCES_AVG',\n",
    "'ENTRANCES_MODE',\n",
    "'FLOORSMAX_AVG',\n",
    "'FLOORSMAX_MODE',\n",
    "'FLOORSMIN_AVG',\n",
    "'FLOORSMIN_MODE',\n",
    "'LANDAREA_AVG',\n",
    "'LANDAREA_MODE',\n",
    "'LIVINGAPARTMENTS_AVG',\n",
    "'LIVINGAPARTMENTS_MODE',\n",
    "'LIVINGAREA_AVG',\n",
    "'LIVINGAREA_MODE',\n",
    "'NONLIVINGAPARTMENTS_AVG',\n",
    "'NONLIVINGAPARTMENTS_MODE',\n",
    "'NONLIVINGAREA_AVG',\n",
    "'NONLIVINGAREA_MODE',\n",
    "'YEARS_BEGINEXPLUATATION_AVG',\n",
    "'YEARS_BEGINEXPLUATATION_MEDI',\n",
    "'YEARS_BEGINEXPLUATATION_MODE',\n",
    "'YEARS_BUILD_AVG',\n",
    "'YEARS_BUILD_MODE',\n",
    "'DEF_60_CNT_SOCIAL_CIRCLE',\n",
    "'OBS_60_CNT_SOCIAL_CIRCLE'], axis = 1)"
   ]
  },
  {
   "cell_type": "code",
   "execution_count": 13,
   "metadata": {},
   "outputs": [],
   "source": [
    "columns_with_median = ['COMMONAREA_MEDI',\n",
    "'LIVINGAPARTMENTS_MEDI',\n",
    "'FLOORSMIN_MEDI',\n",
    "'LANDAREA_MEDI',\n",
    "'BASEMENTAREA_MEDI',\n",
    "'ELEVATORS_MEDI',\n",
    "'APARTMENTS_MEDI',\n",
    "'ENTRANCES_MEDI',\n",
    "'LIVINGAREA_MEDI',\n",
    "'FLOORSMAX_MEDI',\n",
    "'AMT_GOODS_PRICE',\n",
    "'AMT_ANNUITY']\n",
    "\n",
    "for col in columns_with_median:\n",
    "    X_train_nona[col].fillna(X_train_nona[col].median(), inplace = True)\n",
    "    X_test_nona[col].fillna(X_train_nona[col].median(), inplace = True)"
   ]
  },
  {
   "cell_type": "code",
   "execution_count": 14,
   "metadata": {},
   "outputs": [],
   "source": [
    "columns_with_means = ['YEARS_BUILD_MEDI',\n",
    "'EXT_SOURCE_1',\n",
    "'TOTALAREA_MODE',\n",
    "'EXT_SOURCE_3',\n",
    "'EXT_SOURCE_2']\n",
    "\n",
    "for col in columns_with_means:\n",
    "    X_train_nona[col].fillna(X_train_nona[col].mean(), inplace = True)\n",
    "    X_test_nona[col].fillna(X_train_nona[col].mean(), inplace = True)"
   ]
  },
  {
   "cell_type": "code",
   "execution_count": 15,
   "metadata": {},
   "outputs": [],
   "source": [
    "# Fill with Mode\n",
    "columns_with_modes = ['FONDKAPREMONT_MODE',\n",
    "'HOUSETYPE_MODE',\n",
    "'EMERGENCYSTATE_MODE']\n",
    "\n",
    "for col in columns_with_modes:\n",
    "    X_train_nona[col].fillna(X_train_nona[col].mode()[0], inplace = True)\n",
    "    X_test_nona[col].fillna(X_train_nona[col].mode()[0], inplace = True)"
   ]
  },
  {
   "cell_type": "code",
   "execution_count": 16,
   "metadata": {},
   "outputs": [],
   "source": [
    "columns_with_0s = ['NONLIVINGAPARTMENTS_MEDI',\n",
    "'OWN_CAR_AGE',\n",
    "'NONLIVINGAREA_MEDI',\n",
    "'AMT_REQ_CREDIT_BUREAU_YEAR',\n",
    "'AMT_REQ_CREDIT_BUREAU_DAY',\n",
    "'AMT_REQ_CREDIT_BUREAU_QRT',\n",
    "'AMT_REQ_CREDIT_BUREAU_WEEK',\n",
    "'AMT_REQ_CREDIT_BUREAU_HOUR',\n",
    "'AMT_REQ_CREDIT_BUREAU_MON',\n",
    "'OBS_30_CNT_SOCIAL_CIRCLE',\n",
    "'DEF_30_CNT_SOCIAL_CIRCLE',\n",
    "'CNT_FAM_MEMBERS',\n",
    "'DAYS_LAST_PHONE_CHANGE']\n",
    "\n",
    "for col in columns_with_0s:\n",
    "    X_train_nona[col].fillna(0, inplace = True)\n",
    "    X_test_nona[col].fillna(0, inplace = True)"
   ]
  },
  {
   "cell_type": "code",
   "execution_count": 17,
   "metadata": {},
   "outputs": [],
   "source": [
    "X_train_nona['WALLSMATERIAL_MODE'].fillna(\"Others\",inplace = True)\n",
    "X_train_nona['OCCUPATION_TYPE'].fillna(\"Unemployed\",inplace = True)\n",
    "X_train_nona['ORGANIZATION_TYPE'].fillna(\"Retired\",inplace = True)\n",
    "X_train_nona['NAME_TYPE_SUITE'].fillna(\"Unaccompanied\",inplace = True)\n",
    "X_train_nona['CODE_GENDER'].fillna(\"F\",inplace = True)\n",
    "\n",
    "X_test_nona['WALLSMATERIAL_MODE'].fillna(\"Others\",inplace = True)\n",
    "X_test_nona['OCCUPATION_TYPE'].fillna(\"Unemployed\",inplace = True)\n",
    "X_test_nona['ORGANIZATION_TYPE'].fillna(\"Retired\",inplace = True)\n",
    "X_test_nona['NAME_TYPE_SUITE'].fillna(\"Unaccompanied\",inplace = True)\n",
    "X_test_nona['CODE_GENDER'].fillna(\"F\",inplace = True)"
   ]
  },
  {
   "cell_type": "code",
   "execution_count": 18,
   "metadata": {},
   "outputs": [],
   "source": [
    "string_categorical = X_train_nona.columns[X_train_nona.dtypes == 'object']\n",
    "s1 = df[string_categorical].nunique()"
   ]
  },
  {
   "cell_type": "code",
   "execution_count": 19,
   "metadata": {},
   "outputs": [
    {
     "data": {
      "text/plain": [
       "Index(['NAME_CONTRACT_TYPE', 'CODE_GENDER', 'FLAG_OWN_CAR', 'FLAG_OWN_REALTY',\n",
       "       'EMERGENCYSTATE_MODE'],\n",
       "      dtype='object')"
      ]
     },
     "execution_count": 19,
     "metadata": {},
     "output_type": "execute_result"
    }
   ],
   "source": [
    "# string binary\n",
    "binary_cat = s1[s1 ==2].index \n",
    "binary_cat"
   ]
  },
  {
   "cell_type": "code",
   "execution_count": 20,
   "metadata": {},
   "outputs": [],
   "source": [
    "s2 = X_train_nona.loc[:,df.dtypes != 'object'].nunique()"
   ]
  },
  {
   "cell_type": "code",
   "execution_count": 21,
   "metadata": {},
   "outputs": [],
   "source": [
    "binary_cat = binary_cat.append(s2[s2==2].index[1:]) #numerical binary; exclude target"
   ]
  },
  {
   "cell_type": "code",
   "execution_count": 22,
   "metadata": {},
   "outputs": [
    {
     "data": {
      "text/plain": [
       "Index(['NAME_CONTRACT_TYPE', 'CODE_GENDER', 'FLAG_OWN_CAR', 'FLAG_OWN_REALTY',\n",
       "       'EMERGENCYSTATE_MODE', 'FLAG_EMP_PHONE', 'FLAG_WORK_PHONE',\n",
       "       'FLAG_CONT_MOBILE', 'FLAG_PHONE', 'FLAG_EMAIL',\n",
       "       'REG_REGION_NOT_LIVE_REGION', 'REG_REGION_NOT_WORK_REGION',\n",
       "       'LIVE_REGION_NOT_WORK_REGION', 'REG_CITY_NOT_LIVE_CITY',\n",
       "       'REG_CITY_NOT_WORK_CITY', 'LIVE_CITY_NOT_WORK_CITY', 'FLAG_DOCUMENT_2',\n",
       "       'FLAG_DOCUMENT_3', 'FLAG_DOCUMENT_4', 'FLAG_DOCUMENT_5',\n",
       "       'FLAG_DOCUMENT_6', 'FLAG_DOCUMENT_7', 'FLAG_DOCUMENT_8',\n",
       "       'FLAG_DOCUMENT_9', 'FLAG_DOCUMENT_10', 'FLAG_DOCUMENT_11',\n",
       "       'FLAG_DOCUMENT_12', 'FLAG_DOCUMENT_13', 'FLAG_DOCUMENT_14',\n",
       "       'FLAG_DOCUMENT_15', 'FLAG_DOCUMENT_16', 'FLAG_DOCUMENT_17',\n",
       "       'FLAG_DOCUMENT_18', 'FLAG_DOCUMENT_19', 'FLAG_DOCUMENT_20',\n",
       "       'FLAG_DOCUMENT_21'],\n",
       "      dtype='object')"
      ]
     },
     "execution_count": 22,
     "metadata": {},
     "output_type": "execute_result"
    }
   ],
   "source": [
    "binary_cat"
   ]
  },
  {
   "cell_type": "code",
   "execution_count": 23,
   "metadata": {},
   "outputs": [
    {
     "data": {
      "text/plain": [
       "Index(['NAME_TYPE_SUITE', 'NAME_INCOME_TYPE', 'NAME_EDUCATION_TYPE',\n",
       "       'NAME_FAMILY_STATUS', 'NAME_HOUSING_TYPE', 'OCCUPATION_TYPE',\n",
       "       'WEEKDAY_APPR_PROCESS_START', 'ORGANIZATION_TYPE', 'FONDKAPREMONT_MODE',\n",
       "       'HOUSETYPE_MODE', 'WALLSMATERIAL_MODE', 'REGION_RATING_CLIENT',\n",
       "       'REGION_RATING_CLIENT_W_CITY'],\n",
       "      dtype='object')"
      ]
     },
     "execution_count": 23,
     "metadata": {},
     "output_type": "execute_result"
    }
   ],
   "source": [
    "non_bi_cat = s1[s1>2].index # string\n",
    "non_bi_cat = non_bi_cat.append(s2[(s2>2) & (s2<5)].index) # numerical\n",
    "non_bi_cat # all"
   ]
  },
  {
   "cell_type": "code",
   "execution_count": 24,
   "metadata": {},
   "outputs": [],
   "source": [
    "for column in binary_cat:\n",
    "    X_train_nona[column] = X_train_nona[column].astype('category').cat.codes\n",
    "    X_test_nona[column] = X_test_nona[column].astype('category').cat.codes"
   ]
  },
  {
   "cell_type": "code",
   "execution_count": 25,
   "metadata": {},
   "outputs": [
    {
     "data": {
      "text/plain": [
       "NAME_CONTRACT_TYPE             2\n",
       "CODE_GENDER                    2\n",
       "FLAG_OWN_CAR                   2\n",
       "FLAG_OWN_REALTY                2\n",
       "EMERGENCYSTATE_MODE            2\n",
       "FLAG_EMP_PHONE                 2\n",
       "FLAG_WORK_PHONE                2\n",
       "FLAG_CONT_MOBILE               2\n",
       "FLAG_PHONE                     2\n",
       "FLAG_EMAIL                     2\n",
       "REG_REGION_NOT_LIVE_REGION     2\n",
       "REG_REGION_NOT_WORK_REGION     2\n",
       "LIVE_REGION_NOT_WORK_REGION    2\n",
       "REG_CITY_NOT_LIVE_CITY         2\n",
       "REG_CITY_NOT_WORK_CITY         2\n",
       "LIVE_CITY_NOT_WORK_CITY        2\n",
       "FLAG_DOCUMENT_2                2\n",
       "FLAG_DOCUMENT_3                2\n",
       "FLAG_DOCUMENT_4                2\n",
       "FLAG_DOCUMENT_5                2\n",
       "FLAG_DOCUMENT_6                2\n",
       "FLAG_DOCUMENT_7                2\n",
       "FLAG_DOCUMENT_8                2\n",
       "FLAG_DOCUMENT_9                2\n",
       "FLAG_DOCUMENT_10               2\n",
       "FLAG_DOCUMENT_11               2\n",
       "FLAG_DOCUMENT_12               2\n",
       "FLAG_DOCUMENT_13               2\n",
       "FLAG_DOCUMENT_14               2\n",
       "FLAG_DOCUMENT_15               2\n",
       "FLAG_DOCUMENT_16               2\n",
       "FLAG_DOCUMENT_17               2\n",
       "FLAG_DOCUMENT_18               2\n",
       "FLAG_DOCUMENT_19               2\n",
       "FLAG_DOCUMENT_20               2\n",
       "FLAG_DOCUMENT_21               2\n",
       "dtype: int64"
      ]
     },
     "execution_count": 25,
     "metadata": {},
     "output_type": "execute_result"
    }
   ],
   "source": [
    "X_train_nona[binary_cat].nunique()"
   ]
  },
  {
   "cell_type": "code",
   "execution_count": 26,
   "metadata": {},
   "outputs": [
    {
     "data": {
      "text/plain": [
       "(245999, 258)"
      ]
     },
     "execution_count": 26,
     "metadata": {},
     "output_type": "execute_result"
    }
   ],
   "source": [
    "X_train_nona = pd.get_dummies(X_train_nona,\n",
    "                            prefix=non_bi_cat,\n",
    "                            columns=non_bi_cat)\n",
    "X_train_nona.shape #up from 138"
   ]
  },
  {
   "cell_type": "code",
   "execution_count": 27,
   "metadata": {},
   "outputs": [
    {
     "data": {
      "text/plain": [
       "(61500, 258)"
      ]
     },
     "execution_count": 27,
     "metadata": {},
     "output_type": "execute_result"
    }
   ],
   "source": [
    "X_test_nona = pd.get_dummies(X_test_nona,\n",
    "                            prefix=non_bi_cat,\n",
    "                            columns=non_bi_cat)\n",
    "X_test_nona.shape #same with training"
   ]
  },
  {
   "cell_type": "code",
   "execution_count": 28,
   "metadata": {},
   "outputs": [
    {
     "data": {
      "text/plain": [
       "Index([], dtype='object')"
      ]
     },
     "execution_count": 28,
     "metadata": {},
     "output_type": "execute_result"
    }
   ],
   "source": [
    "X_train_nona.columns.symmetric_difference(X_test_nona.columns)"
   ]
  },
  {
   "cell_type": "code",
   "execution_count": 29,
   "metadata": {},
   "outputs": [],
   "source": [
    "#Turning all categorical columns into object type\n",
    "#for column in X_train_nona.columns:\n",
    "#    if(len(X_train_nona[column].value_counts())<=2):\n",
    "#        X_train_nona[column] = X_train_nona[column].astype('object')\n",
    "\n",
    "#return column index of categorical columns\n",
    "#cat_col_index = []\n",
    "#for column in X_train_nona.columns:\n",
    "#if(X_train_nona[column].dtype == 'object'):\n",
    "#        cat_col_index.append(X_train_nona.columns.get_loc(column))\n",
    "\n",
    "#from imblearn.over_sampling import SMOTENC\n",
    "#smt = SMOTENC(categorical_features=cat_col_index,random_state = 11)\n",
    "#X_train_nona1, y_train = smt.fit_sample(X_train_nona, y_train)"
   ]
  },
  {
   "cell_type": "code",
   "execution_count": 30,
   "metadata": {},
   "outputs": [
    {
     "data": {
      "text/plain": [
       "RandomForestClassifier(bootstrap=True, class_weight=None, criterion='gini',\n",
       "                       max_depth=None, max_features='auto', max_leaf_nodes=None,\n",
       "                       min_impurity_decrease=0.0, min_impurity_split=None,\n",
       "                       min_samples_leaf=1, min_samples_split=2,\n",
       "                       min_weight_fraction_leaf=0.0, n_estimators=200,\n",
       "                       n_jobs=None, oob_score=False, random_state=0, verbose=0,\n",
       "                       warm_start=False)"
      ]
     },
     "execution_count": 30,
     "metadata": {},
     "output_type": "execute_result"
    }
   ],
   "source": [
    "from sklearn.ensemble import RandomForestClassifier\n",
    "clf = RandomForestClassifier(random_state=0, n_estimators = 200) # up from 100 \n",
    "clf.fit(X_train_nona,y_train)"
   ]
  },
  {
   "cell_type": "code",
   "execution_count": 31,
   "metadata": {},
   "outputs": [
    {
     "name": "stdout",
     "output_type": "stream",
     "text": [
      "training accuracy: 1.0 \n",
      "test accuracy: 0.9201 \n",
      "ROC_AUC_score: 0.7373 \n",
      "F1 score: 0.0020316944331572532\n"
     ]
    }
   ],
   "source": [
    "from sklearn.metrics import roc_auc_score, f1_score\n",
    "from sklearn import metrics\n",
    "\n",
    "y_pred = clf.predict(X_train_nona)\n",
    "y_pred_test = clf.predict(X_test_nona)\n",
    "y_score_test = clf.predict_proba(X_test_nona)[:,1]\n",
    "print(\"training accuracy:\", round(metrics.accuracy_score(y_train,y_pred),4), \"\\n\"\n",
    "     \"test accuracy:\", round(metrics.accuracy_score(y_test,y_pred_test),4), \"\\n\"\n",
    "    \"ROC_AUC_score:\", round(roc_auc_score(y_test,y_score_test),4), \"\\n\"\n",
    "     \"F1 score:\", f1_score(y_test, y_pred_test))"
   ]
  },
  {
   "cell_type": "code",
   "execution_count": 32,
   "metadata": {},
   "outputs": [
    {
     "data": {
      "text/html": [
       "<div>\n",
       "<style scoped>\n",
       "    .dataframe tbody tr th:only-of-type {\n",
       "        vertical-align: middle;\n",
       "    }\n",
       "\n",
       "    .dataframe tbody tr th {\n",
       "        vertical-align: top;\n",
       "    }\n",
       "\n",
       "    .dataframe thead th {\n",
       "        text-align: right;\n",
       "    }\n",
       "</style>\n",
       "<table border=\"1\" class=\"dataframe\">\n",
       "  <thead>\n",
       "    <tr style=\"text-align: right;\">\n",
       "      <th></th>\n",
       "      <th>importance</th>\n",
       "    </tr>\n",
       "  </thead>\n",
       "  <tbody>\n",
       "    <tr>\n",
       "      <th>EXT_SOURCE_2</th>\n",
       "      <td>0.038505</td>\n",
       "    </tr>\n",
       "    <tr>\n",
       "      <th>EXT_SOURCE_3</th>\n",
       "      <td>0.034130</td>\n",
       "    </tr>\n",
       "    <tr>\n",
       "      <th>DAYS_BIRTH</th>\n",
       "      <td>0.022383</td>\n",
       "    </tr>\n",
       "    <tr>\n",
       "      <th>DAYS_ID_PUBLISH</th>\n",
       "      <td>0.021227</td>\n",
       "    </tr>\n",
       "    <tr>\n",
       "      <th>DAYS_REGISTRATION</th>\n",
       "      <td>0.020903</td>\n",
       "    </tr>\n",
       "    <tr>\n",
       "      <th>AMT_PAYMENT_pay</th>\n",
       "      <td>0.019339</td>\n",
       "    </tr>\n",
       "    <tr>\n",
       "      <th>AMT_INSTALMENT_pay</th>\n",
       "      <td>0.019244</td>\n",
       "    </tr>\n",
       "    <tr>\n",
       "      <th>AMT_ANNUITY</th>\n",
       "      <td>0.019209</td>\n",
       "    </tr>\n",
       "    <tr>\n",
       "      <th>DPD_avg_pay</th>\n",
       "      <td>0.019072</td>\n",
       "    </tr>\n",
       "    <tr>\n",
       "      <th>DAYS_EMPLOYED</th>\n",
       "      <td>0.018914</td>\n",
       "    </tr>\n",
       "  </tbody>\n",
       "</table>\n",
       "</div>"
      ],
      "text/plain": [
       "                    importance\n",
       "EXT_SOURCE_2          0.038505\n",
       "EXT_SOURCE_3          0.034130\n",
       "DAYS_BIRTH            0.022383\n",
       "DAYS_ID_PUBLISH       0.021227\n",
       "DAYS_REGISTRATION     0.020903\n",
       "AMT_PAYMENT_pay       0.019339\n",
       "AMT_INSTALMENT_pay    0.019244\n",
       "AMT_ANNUITY           0.019209\n",
       "DPD_avg_pay           0.019072\n",
       "DAYS_EMPLOYED         0.018914"
      ]
     },
     "execution_count": 32,
     "metadata": {},
     "output_type": "execute_result"
    }
   ],
   "source": [
    "feature_importances = pd.DataFrame(clf.feature_importances_, index = X_train_nona.columns, columns=['importance']).sort_values('importance', ascending=False)\n",
    "feature_importances[:10]"
   ]
  },
  {
   "cell_type": "code",
   "execution_count": 33,
   "metadata": {},
   "outputs": [],
   "source": [
    "#feature_importances[:15].plot(kind='Bar')"
   ]
  },
  {
   "cell_type": "code",
   "execution_count": 34,
   "metadata": {},
   "outputs": [],
   "source": [
    "top10_features = list(feature_importances.reset_index()['index'][:20])"
   ]
  },
  {
   "cell_type": "code",
   "execution_count": 35,
   "metadata": {},
   "outputs": [
    {
     "data": {
      "text/plain": [
       "['EXT_SOURCE_2',\n",
       " 'EXT_SOURCE_3',\n",
       " 'DAYS_BIRTH',\n",
       " 'DAYS_ID_PUBLISH',\n",
       " 'DAYS_REGISTRATION',\n",
       " 'AMT_PAYMENT_pay',\n",
       " 'AMT_INSTALMENT_pay',\n",
       " 'AMT_ANNUITY',\n",
       " 'DPD_avg_pay',\n",
       " 'DAYS_EMPLOYED',\n",
       " 'DAYS_LAST_PHONE_CHANGE',\n",
       " 'EXT_SOURCE_1',\n",
       " 'AMT_CREDIT',\n",
       " 'DPD_min_pay',\n",
       " 'AMT_APPLICATION',\n",
       " 'MIN_DAYS_DECISION',\n",
       " 'AMT_APPROVED',\n",
       " 'NUM_INSTALMENT_NUMBER_pay',\n",
       " 'REGION_POPULATION_RELATIVE',\n",
       " 'AMT_INCOME_TOTAL']"
      ]
     },
     "execution_count": 35,
     "metadata": {},
     "output_type": "execute_result"
    }
   ],
   "source": [
    "top10_features"
   ]
  },
  {
   "cell_type": "code",
   "execution_count": 36,
   "metadata": {},
   "outputs": [],
   "source": [
    "x_top10_train1 = X_train_nona[top10_features]\n",
    "x_top10_test = X_test_nona[top10_features]"
   ]
  },
  {
   "cell_type": "code",
   "execution_count": 37,
   "metadata": {},
   "outputs": [
    {
     "data": {
      "text/html": [
       "<div>\n",
       "<style scoped>\n",
       "    .dataframe tbody tr th:only-of-type {\n",
       "        vertical-align: middle;\n",
       "    }\n",
       "\n",
       "    .dataframe tbody tr th {\n",
       "        vertical-align: top;\n",
       "    }\n",
       "\n",
       "    .dataframe thead th {\n",
       "        text-align: right;\n",
       "    }\n",
       "</style>\n",
       "<table border=\"1\" class=\"dataframe\">\n",
       "  <thead>\n",
       "    <tr style=\"text-align: right;\">\n",
       "      <th></th>\n",
       "      <th>EXT_SOURCE_2</th>\n",
       "      <th>EXT_SOURCE_3</th>\n",
       "      <th>DAYS_BIRTH</th>\n",
       "      <th>DAYS_ID_PUBLISH</th>\n",
       "      <th>DAYS_REGISTRATION</th>\n",
       "      <th>AMT_PAYMENT_pay</th>\n",
       "      <th>AMT_INSTALMENT_pay</th>\n",
       "      <th>AMT_ANNUITY</th>\n",
       "      <th>DPD_avg_pay</th>\n",
       "      <th>DAYS_EMPLOYED</th>\n",
       "      <th>DAYS_LAST_PHONE_CHANGE</th>\n",
       "      <th>EXT_SOURCE_1</th>\n",
       "      <th>AMT_CREDIT</th>\n",
       "      <th>DPD_min_pay</th>\n",
       "      <th>AMT_APPLICATION</th>\n",
       "      <th>MIN_DAYS_DECISION</th>\n",
       "      <th>AMT_APPROVED</th>\n",
       "      <th>NUM_INSTALMENT_NUMBER_pay</th>\n",
       "      <th>REGION_POPULATION_RELATIVE</th>\n",
       "      <th>AMT_INCOME_TOTAL</th>\n",
       "    </tr>\n",
       "  </thead>\n",
       "  <tbody>\n",
       "    <tr>\n",
       "      <th>0</th>\n",
       "      <td>0.262949</td>\n",
       "      <td>0.139376</td>\n",
       "      <td>-9461</td>\n",
       "      <td>-2120</td>\n",
       "      <td>-3648.0</td>\n",
       "      <td>219625.695</td>\n",
       "      <td>219625.695</td>\n",
       "      <td>24700.5</td>\n",
       "      <td>-20.421053</td>\n",
       "      <td>-637</td>\n",
       "      <td>-1134.0</td>\n",
       "      <td>0.083037</td>\n",
       "      <td>406597.5</td>\n",
       "      <td>-31.0</td>\n",
       "      <td>179055.00</td>\n",
       "      <td>-606.0</td>\n",
       "      <td>179055.0</td>\n",
       "      <td>19.0</td>\n",
       "      <td>0.018801</td>\n",
       "      <td>202500.0</td>\n",
       "    </tr>\n",
       "    <tr>\n",
       "      <th>2</th>\n",
       "      <td>0.555912</td>\n",
       "      <td>0.729567</td>\n",
       "      <td>-19046</td>\n",
       "      <td>-2531</td>\n",
       "      <td>-4260.0</td>\n",
       "      <td>21288.465</td>\n",
       "      <td>21288.465</td>\n",
       "      <td>6750.0</td>\n",
       "      <td>-7.666667</td>\n",
       "      <td>-225</td>\n",
       "      <td>-815.0</td>\n",
       "      <td>0.502126</td>\n",
       "      <td>135000.0</td>\n",
       "      <td>-11.0</td>\n",
       "      <td>24282.00</td>\n",
       "      <td>-815.0</td>\n",
       "      <td>20106.0</td>\n",
       "      <td>3.0</td>\n",
       "      <td>0.010032</td>\n",
       "      <td>67500.0</td>\n",
       "    </tr>\n",
       "    <tr>\n",
       "      <th>3</th>\n",
       "      <td>0.650442</td>\n",
       "      <td>0.510880</td>\n",
       "      <td>-19005</td>\n",
       "      <td>-2437</td>\n",
       "      <td>-9833.0</td>\n",
       "      <td>1007153.415</td>\n",
       "      <td>1007153.415</td>\n",
       "      <td>29686.5</td>\n",
       "      <td>-19.375000</td>\n",
       "      <td>-3039</td>\n",
       "      <td>-617.0</td>\n",
       "      <td>0.502126</td>\n",
       "      <td>312682.5</td>\n",
       "      <td>-77.0</td>\n",
       "      <td>2449829.34</td>\n",
       "      <td>-181.0</td>\n",
       "      <td>1718644.5</td>\n",
       "      <td>16.0</td>\n",
       "      <td>0.008019</td>\n",
       "      <td>135000.0</td>\n",
       "    </tr>\n",
       "    <tr>\n",
       "      <th>5</th>\n",
       "      <td>0.354225</td>\n",
       "      <td>0.621226</td>\n",
       "      <td>-16941</td>\n",
       "      <td>-477</td>\n",
       "      <td>-4970.0</td>\n",
       "      <td>957617.595</td>\n",
       "      <td>969603.750</td>\n",
       "      <td>27517.5</td>\n",
       "      <td>26.114286</td>\n",
       "      <td>-1588</td>\n",
       "      <td>-2536.0</td>\n",
       "      <td>0.502126</td>\n",
       "      <td>490495.5</td>\n",
       "      <td>-28.0</td>\n",
       "      <td>778509.00</td>\n",
       "      <td>-82.0</td>\n",
       "      <td>813838.5</td>\n",
       "      <td>35.0</td>\n",
       "      <td>0.035792</td>\n",
       "      <td>99000.0</td>\n",
       "    </tr>\n",
       "    <tr>\n",
       "      <th>7</th>\n",
       "      <td>0.714279</td>\n",
       "      <td>0.540654</td>\n",
       "      <td>-18850</td>\n",
       "      <td>-2379</td>\n",
       "      <td>-4597.0</td>\n",
       "      <td>274492.080</td>\n",
       "      <td>274492.080</td>\n",
       "      <td>42075.0</td>\n",
       "      <td>-11.900000</td>\n",
       "      <td>-449</td>\n",
       "      <td>-1070.0</td>\n",
       "      <td>0.502126</td>\n",
       "      <td>1530000.0</td>\n",
       "      <td>-30.0</td>\n",
       "      <td>0.00</td>\n",
       "      <td>0.0</td>\n",
       "      <td>0.0</td>\n",
       "      <td>10.0</td>\n",
       "      <td>0.003122</td>\n",
       "      <td>360000.0</td>\n",
       "    </tr>\n",
       "    <tr>\n",
       "      <th>...</th>\n",
       "      <td>...</td>\n",
       "      <td>...</td>\n",
       "      <td>...</td>\n",
       "      <td>...</td>\n",
       "      <td>...</td>\n",
       "      <td>...</td>\n",
       "      <td>...</td>\n",
       "      <td>...</td>\n",
       "      <td>...</td>\n",
       "      <td>...</td>\n",
       "      <td>...</td>\n",
       "      <td>...</td>\n",
       "      <td>...</td>\n",
       "      <td>...</td>\n",
       "      <td>...</td>\n",
       "      <td>...</td>\n",
       "      <td>...</td>\n",
       "      <td>...</td>\n",
       "      <td>...</td>\n",
       "      <td>...</td>\n",
       "    </tr>\n",
       "    <tr>\n",
       "      <th>307494</th>\n",
       "      <td>0.681632</td>\n",
       "      <td>0.510880</td>\n",
       "      <td>-9327</td>\n",
       "      <td>-1982</td>\n",
       "      <td>-8456.0</td>\n",
       "      <td>52450.470</td>\n",
       "      <td>52450.470</td>\n",
       "      <td>27558.0</td>\n",
       "      <td>-36.285714</td>\n",
       "      <td>-236</td>\n",
       "      <td>-273.0</td>\n",
       "      <td>0.145570</td>\n",
       "      <td>254700.0</td>\n",
       "      <td>-46.0</td>\n",
       "      <td>40455.00</td>\n",
       "      <td>-273.0</td>\n",
       "      <td>40455.0</td>\n",
       "      <td>7.0</td>\n",
       "      <td>0.032561</td>\n",
       "      <td>157500.0</td>\n",
       "    </tr>\n",
       "    <tr>\n",
       "      <th>307495</th>\n",
       "      <td>0.115992</td>\n",
       "      <td>0.510880</td>\n",
       "      <td>-20775</td>\n",
       "      <td>-4090</td>\n",
       "      <td>-4388.0</td>\n",
       "      <td>60419.205</td>\n",
       "      <td>60419.205</td>\n",
       "      <td>12001.5</td>\n",
       "      <td>-2.833333</td>\n",
       "      <td>365243</td>\n",
       "      <td>0.0</td>\n",
       "      <td>0.502126</td>\n",
       "      <td>269550.0</td>\n",
       "      <td>-11.0</td>\n",
       "      <td>57595.50</td>\n",
       "      <td>-2497.0</td>\n",
       "      <td>56821.5</td>\n",
       "      <td>6.0</td>\n",
       "      <td>0.025164</td>\n",
       "      <td>72000.0</td>\n",
       "    </tr>\n",
       "    <tr>\n",
       "      <th>307496</th>\n",
       "      <td>0.535722</td>\n",
       "      <td>0.218859</td>\n",
       "      <td>-14966</td>\n",
       "      <td>-5150</td>\n",
       "      <td>-6737.0</td>\n",
       "      <td>57622.815</td>\n",
       "      <td>61595.910</td>\n",
       "      <td>29979.0</td>\n",
       "      <td>-14.500000</td>\n",
       "      <td>-7921</td>\n",
       "      <td>-1909.0</td>\n",
       "      <td>0.744026</td>\n",
       "      <td>677664.0</td>\n",
       "      <td>-51.0</td>\n",
       "      <td>48325.50</td>\n",
       "      <td>-1909.0</td>\n",
       "      <td>41251.5</td>\n",
       "      <td>14.0</td>\n",
       "      <td>0.005002</td>\n",
       "      <td>153000.0</td>\n",
       "    </tr>\n",
       "    <tr>\n",
       "      <th>307497</th>\n",
       "      <td>0.514163</td>\n",
       "      <td>0.661024</td>\n",
       "      <td>-11961</td>\n",
       "      <td>-931</td>\n",
       "      <td>-2562.0</td>\n",
       "      <td>194556.825</td>\n",
       "      <td>194556.825</td>\n",
       "      <td>20205.0</td>\n",
       "      <td>-19.000000</td>\n",
       "      <td>-4786</td>\n",
       "      <td>-322.0</td>\n",
       "      <td>0.502126</td>\n",
       "      <td>370107.0</td>\n",
       "      <td>-31.0</td>\n",
       "      <td>242635.50</td>\n",
       "      <td>-277.0</td>\n",
       "      <td>268879.5</td>\n",
       "      <td>19.0</td>\n",
       "      <td>0.005313</td>\n",
       "      <td>171000.0</td>\n",
       "    </tr>\n",
       "    <tr>\n",
       "      <th>307498</th>\n",
       "      <td>0.708569</td>\n",
       "      <td>0.113922</td>\n",
       "      <td>-16856</td>\n",
       "      <td>-410</td>\n",
       "      <td>-5128.0</td>\n",
       "      <td>3525819.975</td>\n",
       "      <td>3068388.810</td>\n",
       "      <td>49117.5</td>\n",
       "      <td>-8.067568</td>\n",
       "      <td>-1262</td>\n",
       "      <td>-787.0</td>\n",
       "      <td>0.734460</td>\n",
       "      <td>675000.0</td>\n",
       "      <td>-35.0</td>\n",
       "      <td>2902167.00</td>\n",
       "      <td>-171.0</td>\n",
       "      <td>2282508.0</td>\n",
       "      <td>74.0</td>\n",
       "      <td>0.046220</td>\n",
       "      <td>157500.0</td>\n",
       "    </tr>\n",
       "  </tbody>\n",
       "</table>\n",
       "<p>245999 rows × 20 columns</p>\n",
       "</div>"
      ],
      "text/plain": [
       "        EXT_SOURCE_2  EXT_SOURCE_3  DAYS_BIRTH  DAYS_ID_PUBLISH  \\\n",
       "0           0.262949      0.139376       -9461            -2120   \n",
       "2           0.555912      0.729567      -19046            -2531   \n",
       "3           0.650442      0.510880      -19005            -2437   \n",
       "5           0.354225      0.621226      -16941             -477   \n",
       "7           0.714279      0.540654      -18850            -2379   \n",
       "...              ...           ...         ...              ...   \n",
       "307494      0.681632      0.510880       -9327            -1982   \n",
       "307495      0.115992      0.510880      -20775            -4090   \n",
       "307496      0.535722      0.218859      -14966            -5150   \n",
       "307497      0.514163      0.661024      -11961             -931   \n",
       "307498      0.708569      0.113922      -16856             -410   \n",
       "\n",
       "        DAYS_REGISTRATION  AMT_PAYMENT_pay  AMT_INSTALMENT_pay  AMT_ANNUITY  \\\n",
       "0                 -3648.0       219625.695          219625.695      24700.5   \n",
       "2                 -4260.0        21288.465           21288.465       6750.0   \n",
       "3                 -9833.0      1007153.415         1007153.415      29686.5   \n",
       "5                 -4970.0       957617.595          969603.750      27517.5   \n",
       "7                 -4597.0       274492.080          274492.080      42075.0   \n",
       "...                   ...              ...                 ...          ...   \n",
       "307494            -8456.0        52450.470           52450.470      27558.0   \n",
       "307495            -4388.0        60419.205           60419.205      12001.5   \n",
       "307496            -6737.0        57622.815           61595.910      29979.0   \n",
       "307497            -2562.0       194556.825          194556.825      20205.0   \n",
       "307498            -5128.0      3525819.975         3068388.810      49117.5   \n",
       "\n",
       "        DPD_avg_pay  DAYS_EMPLOYED  DAYS_LAST_PHONE_CHANGE  EXT_SOURCE_1  \\\n",
       "0        -20.421053           -637                 -1134.0      0.083037   \n",
       "2         -7.666667           -225                  -815.0      0.502126   \n",
       "3        -19.375000          -3039                  -617.0      0.502126   \n",
       "5         26.114286          -1588                 -2536.0      0.502126   \n",
       "7        -11.900000           -449                 -1070.0      0.502126   \n",
       "...             ...            ...                     ...           ...   \n",
       "307494   -36.285714           -236                  -273.0      0.145570   \n",
       "307495    -2.833333         365243                     0.0      0.502126   \n",
       "307496   -14.500000          -7921                 -1909.0      0.744026   \n",
       "307497   -19.000000          -4786                  -322.0      0.502126   \n",
       "307498    -8.067568          -1262                  -787.0      0.734460   \n",
       "\n",
       "        AMT_CREDIT  DPD_min_pay  AMT_APPLICATION  MIN_DAYS_DECISION  \\\n",
       "0         406597.5        -31.0        179055.00             -606.0   \n",
       "2         135000.0        -11.0         24282.00             -815.0   \n",
       "3         312682.5        -77.0       2449829.34             -181.0   \n",
       "5         490495.5        -28.0        778509.00              -82.0   \n",
       "7        1530000.0        -30.0             0.00                0.0   \n",
       "...            ...          ...              ...                ...   \n",
       "307494    254700.0        -46.0         40455.00             -273.0   \n",
       "307495    269550.0        -11.0         57595.50            -2497.0   \n",
       "307496    677664.0        -51.0         48325.50            -1909.0   \n",
       "307497    370107.0        -31.0        242635.50             -277.0   \n",
       "307498    675000.0        -35.0       2902167.00             -171.0   \n",
       "\n",
       "        AMT_APPROVED  NUM_INSTALMENT_NUMBER_pay  REGION_POPULATION_RELATIVE  \\\n",
       "0           179055.0                       19.0                    0.018801   \n",
       "2            20106.0                        3.0                    0.010032   \n",
       "3          1718644.5                       16.0                    0.008019   \n",
       "5           813838.5                       35.0                    0.035792   \n",
       "7                0.0                       10.0                    0.003122   \n",
       "...              ...                        ...                         ...   \n",
       "307494       40455.0                        7.0                    0.032561   \n",
       "307495       56821.5                        6.0                    0.025164   \n",
       "307496       41251.5                       14.0                    0.005002   \n",
       "307497      268879.5                       19.0                    0.005313   \n",
       "307498     2282508.0                       74.0                    0.046220   \n",
       "\n",
       "        AMT_INCOME_TOTAL  \n",
       "0               202500.0  \n",
       "2                67500.0  \n",
       "3               135000.0  \n",
       "5                99000.0  \n",
       "7               360000.0  \n",
       "...                  ...  \n",
       "307494          157500.0  \n",
       "307495           72000.0  \n",
       "307496          153000.0  \n",
       "307497          171000.0  \n",
       "307498          157500.0  \n",
       "\n",
       "[245999 rows x 20 columns]"
      ]
     },
     "execution_count": 37,
     "metadata": {},
     "output_type": "execute_result"
    }
   ],
   "source": [
    "x_top10_train1.sort_index()"
   ]
  },
  {
   "cell_type": "code",
   "execution_count": 38,
   "metadata": {},
   "outputs": [],
   "source": [
    "x_top10_train1.index = x_top10_train1.index.astype(int)\n",
    "y_train.index = y_train.index.astype(int)"
   ]
  },
  {
   "cell_type": "code",
   "execution_count": 39,
   "metadata": {},
   "outputs": [
    {
     "data": {
      "text/plain": [
       "[]"
      ]
     },
     "execution_count": 39,
     "metadata": {},
     "output_type": "execute_result"
    }
   ],
   "source": [
    "#Turning all categorical columns into object type\n",
    "for column in x_top10_train1.columns:\n",
    "    if(len(x_top10_train1[column].value_counts())<=2):\n",
    "        x_top10_train1[column] = x_top10_train1[column].astype('object')\n",
    "\n",
    "cat_col_index = []\n",
    "for column in x_top10_train1.columns:\n",
    "    if(x_top10_train1[column].dtype == 'object'):\n",
    "        cat_col_index.append(x_top10_train1.columns.get_loc(column))\n",
    "cat_col_index"
   ]
  },
  {
   "cell_type": "code",
   "execution_count": 40,
   "metadata": {},
   "outputs": [
    {
     "name": "stderr",
     "output_type": "stream",
     "text": [
      "Using TensorFlow backend.\n"
     ]
    }
   ],
   "source": [
    "       \n",
    "from imblearn.over_sampling import SMOTENC,SMOTE\n",
    "#smt = SMOTENC(categorical_features=cat_col_index,random_state = 11)\n",
    "smt = SMOTE(random_state=11)\n",
    "x_top10_train, y_train = smt.fit_sample(x_top10_train1, y_train)"
   ]
  },
  {
   "cell_type": "code",
   "execution_count": 41,
   "metadata": {},
   "outputs": [],
   "source": [
    "x_top10_train = pd.DataFrame(x_top10_train, columns=x_top10_train1.columns)"
   ]
  },
  {
   "cell_type": "code",
   "execution_count": 42,
   "metadata": {},
   "outputs": [],
   "source": [
    "y_train = pd.Series(y_train)"
   ]
  },
  {
   "cell_type": "code",
   "execution_count": 43,
   "metadata": {},
   "outputs": [
    {
     "data": {
      "text/plain": [
       "214680    0\n",
       "288472    1\n",
       "26682     0\n",
       "71216     0\n",
       "110513    0\n",
       "         ..\n",
       "127131    0\n",
       "91105     0\n",
       "18691     0\n",
       "84309     0\n",
       "153888    0\n",
       "Name: TARGET, Length: 61500, dtype: int64"
      ]
     },
     "execution_count": 43,
     "metadata": {},
     "output_type": "execute_result"
    }
   ],
   "source": [
    "y_test"
   ]
  },
  {
   "cell_type": "code",
   "execution_count": 44,
   "metadata": {},
   "outputs": [
    {
     "name": "stderr",
     "output_type": "stream",
     "text": [
      "C:\\Users\\micha\\Anaconda3\\envs\\aix360\\lib\\site-packages\\ipykernel_launcher.py:3: FutureWarning: The signature of `Series.to_csv` was aligned to that of `DataFrame.to_csv`, and argument 'header' will change its default value from False to True: please pass an explicit value to suppress this warning.\n",
      "  This is separate from the ipykernel package so we can avoid doing imports until\n",
      "C:\\Users\\micha\\Anaconda3\\envs\\aix360\\lib\\site-packages\\ipykernel_launcher.py:4: FutureWarning: The signature of `Series.to_csv` was aligned to that of `DataFrame.to_csv`, and argument 'header' will change its default value from False to True: please pass an explicit value to suppress this warning.\n",
      "  after removing the cwd from sys.path.\n"
     ]
    }
   ],
   "source": [
    "x_top10_train.to_csv('x20_train.csv')\n",
    "x_top10_test.to_csv('x20_test.csv')\n",
    "y_train.to_csv('y20_train.csv')\n",
    "y_test.to_csv('y20_test.csv')"
   ]
  },
  {
   "cell_type": "code",
   "execution_count": 45,
   "metadata": {},
   "outputs": [
    {
     "data": {
      "text/plain": [
       "RandomForestClassifier(bootstrap=True, class_weight=None, criterion='gini',\n",
       "                       max_depth=None, max_features='auto', max_leaf_nodes=None,\n",
       "                       min_impurity_decrease=0.0, min_impurity_split=None,\n",
       "                       min_samples_leaf=1, min_samples_split=2,\n",
       "                       min_weight_fraction_leaf=0.0, n_estimators=200,\n",
       "                       n_jobs=None, oob_score=False, random_state=0, verbose=0,\n",
       "                       warm_start=False)"
      ]
     },
     "execution_count": 45,
     "metadata": {},
     "output_type": "execute_result"
    }
   ],
   "source": [
    "clf.fit(x_top10_train, y_train)"
   ]
  },
  {
   "cell_type": "code",
   "execution_count": 46,
   "metadata": {},
   "outputs": [
    {
     "name": "stdout",
     "output_type": "stream",
     "text": [
      "training accuracy: 1.0 \n",
      "test accuracy: 0.8523 \n",
      "ROC_AUC_score: 0.6827 \n",
      "F1 score: 0.1888174347981422\n"
     ]
    }
   ],
   "source": [
    "y_pred_top10 = clf.predict(x_top10_train)\n",
    "y_pred_test10 = clf.predict(x_top10_test)\n",
    "y_score_test10 = clf.predict_proba(x_top10_test)[:,1]\n",
    "print(\"training accuracy:\", round(metrics.accuracy_score(y_train,y_pred_top10),4), \"\\n\"\n",
    "     \"test accuracy:\", round(metrics.accuracy_score(y_test,y_pred_test10),4), \"\\n\"\n",
    "    \"ROC_AUC_score:\", round(roc_auc_score(y_test,y_score_test10),4), \"\\n\"\n",
    "     \"F1 score:\", f1_score(y_test, y_pred_test10))"
   ]
  },
  {
   "cell_type": "code",
   "execution_count": 47,
   "metadata": {},
   "outputs": [],
   "source": [
    "#feature_importances2 = pd.DataFrame(clf.feature_importances_, index = x_top10_train.columns, columns=['importance']).sort_values('importance', ascending=False)"
   ]
  },
  {
   "cell_type": "code",
   "execution_count": 48,
   "metadata": {},
   "outputs": [],
   "source": [
    "#feature_importances2"
   ]
  },
  {
   "cell_type": "markdown",
   "metadata": {},
   "source": [
    "# LRCG"
   ]
  },
  {
   "cell_type": "code",
   "execution_count": 49,
   "metadata": {},
   "outputs": [],
   "source": [
    "from aix360.algorithms.rbm import FeatureBinarizer\n",
    "\n",
    "fb = FeatureBinarizer(negations=True) # can't really find source code...\n",
    "X_train_fb = fb.fit_transform(x_top10_train)\n",
    "X_test_fb = fb.transform(x_top10_test)"
   ]
  },
  {
   "cell_type": "code",
   "execution_count": 50,
   "metadata": {},
   "outputs": [],
   "source": [
    "from aix360.algorithms.rbm import GLRMExplainer, LogisticRuleRegression\n",
    "logistic_model = LogisticRuleRegression(maxSolverIter = 2000)\n",
    "explainer = GLRMExplainer(logistic_model)\n",
    "explainer.fit(X_train_fb, y_train)"
   ]
  },
  {
   "cell_type": "code",
   "execution_count": 51,
   "metadata": {},
   "outputs": [
    {
     "name": "stdout",
     "output_type": "stream",
     "text": [
      "AUROC score: 0.6678057601258027 \n",
      "F1 score: 0.21295155020384943 \n",
      "R2 score: -4.50478810348169 \n",
      "Explained Variance: -2.7955377866508013 \n",
      "MAE: 0.4049268292682927 \n",
      "Max error: 1\n"
     ]
    }
   ],
   "source": [
    "Y_pred = explainer.predict(X_test_fb)\n",
    "Y_score = explainer.predict_proba(X_test_fb)\n",
    "\n",
    "from sklearn.metrics import roc_auc_score, f1_score, r2_score, explained_variance_score, mean_absolute_error, max_error\n",
    "print(\"AUROC score:\", roc_auc_score(y_test, Y_score), \"\\n\" # it's ok\n",
    "      \"F1 score:\", f1_score(y_test, Y_pred), \"\\n\"\n",
    "      \"R2 score:\", r2_score(y_test, Y_pred), \"\\n\" # seems to be pretty bad - can't explain anything\n",
    "      \"Explained Variance:\", explained_variance_score(y_test, Y_pred), \"\\n\" # again, bad\n",
    "      \"MAE:\", mean_absolute_error(y_test, Y_pred), \"\\n\"\n",
    "      \"Max error:\", max_error(y_test, Y_pred)\n",
    "     )"
   ]
  },
  {
   "cell_type": "code",
   "execution_count": 52,
   "metadata": {},
   "outputs": [
    {
     "data": {
      "text/html": [
       "<div>\n",
       "<style scoped>\n",
       "    .dataframe tbody tr th:only-of-type {\n",
       "        vertical-align: middle;\n",
       "    }\n",
       "\n",
       "    .dataframe tbody tr th {\n",
       "        vertical-align: top;\n",
       "    }\n",
       "\n",
       "    .dataframe thead th {\n",
       "        text-align: right;\n",
       "    }\n",
       "</style>\n",
       "<table border=\"1\" class=\"dataframe\">\n",
       "  <thead>\n",
       "    <tr style=\"text-align: right;\">\n",
       "      <th></th>\n",
       "      <th>rule</th>\n",
       "      <th>coefficient</th>\n",
       "    </tr>\n",
       "  </thead>\n",
       "  <tbody>\n",
       "    <tr>\n",
       "      <th>0</th>\n",
       "      <td>(intercept)</td>\n",
       "      <td>-1.58181</td>\n",
       "    </tr>\n",
       "    <tr>\n",
       "      <th>1</th>\n",
       "      <td>EXT_SOURCE_2 &lt;= 0.65 AND EXT_SOURCE_3 &lt;= 0.61</td>\n",
       "      <td>1.18096</td>\n",
       "    </tr>\n",
       "    <tr>\n",
       "      <th>2</th>\n",
       "      <td>EXT_SOURCE_3 &lt;= 0.51</td>\n",
       "      <td>1.11587</td>\n",
       "    </tr>\n",
       "    <tr>\n",
       "      <th>3</th>\n",
       "      <td>EXT_SOURCE_2 &lt;= 0.55</td>\n",
       "      <td>1.03884</td>\n",
       "    </tr>\n",
       "    <tr>\n",
       "      <th>4</th>\n",
       "      <td>EXT_SOURCE_2 &lt;= 0.65 AND EXT_SOURCE_3 &lt;= 0.51</td>\n",
       "      <td>0.0790509</td>\n",
       "    </tr>\n",
       "  </tbody>\n",
       "</table>\n",
       "</div>"
      ],
      "text/plain": [
       "                                            rule coefficient\n",
       "0                                    (intercept)    -1.58181\n",
       "1  EXT_SOURCE_2 <= 0.65 AND EXT_SOURCE_3 <= 0.61     1.18096\n",
       "2                           EXT_SOURCE_3 <= 0.51     1.11587\n",
       "3                           EXT_SOURCE_2 <= 0.55     1.03884\n",
       "4  EXT_SOURCE_2 <= 0.65 AND EXT_SOURCE_3 <= 0.51   0.0790509"
      ]
     },
     "execution_count": 52,
     "metadata": {},
     "output_type": "execute_result"
    }
   ],
   "source": [
    "explainer.explain()"
   ]
  },
  {
   "cell_type": "code",
   "execution_count": 55,
   "metadata": {},
   "outputs": [
    {
     "data": {
      "image/png": "[encoded data removed]",
      "text/plain": [
       "<Figure size 432x288 with 1 Axes>"
      ]
     },
     "metadata": {
      "needs_background": "light"
     },
     "output_type": "display_data"
    }
   ],
   "source": [
    "logistic_model.visualize(df, fb, ['EXT_SOURCE_3']);"
   ]
  },
  {
   "cell_type": "code",
   "execution_count": 56,
   "metadata": {},
   "outputs": [
    {
     "data": {
      "image/png": "[encoded data removed]",
      "text/plain": [
       "<Figure size 432x288 with 1 Axes>"
      ]
     },
     "metadata": {
      "needs_background": "light"
     },
     "output_type": "display_data"
    }
   ],
   "source": [
    "logistic_model.visualize(df, fb, ['EXT_SOURCE_2']);"
   ]
  },
  {
   "cell_type": "markdown",
   "metadata": {},
   "source": [
    "# BRCG"
   ]
  },
  {
   "cell_type": "code",
   "execution_count": 82,
   "metadata": {},
   "outputs": [],
   "source": [
    "from aix360.algorithms.rbm import BRCGExplainer, BooleanRuleCG"
   ]
  },
  {
   "cell_type": "code",
   "execution_count": 83,
   "metadata": {},
   "outputs": [
    {
     "name": "stdout",
     "output_type": "stream",
     "text": [
      "Learning DNF rule with complexity parameters lambda0=0.001, lambda1=0.001\n",
      "Initial LP solved\n",
      "Iteration: 1, Objective: 0.3478\n",
      "Iteration: 2, Objective: 0.3254\n",
      "Iteration: 3, Objective: 0.3170\n",
      "Iteration: 4, Objective: 0.3128\n",
      "Iteration: 5, Objective: 0.3075\n",
      "Iteration: 6, Objective: 0.3075\n",
      "Iteration: 7, Objective: 0.3075\n",
      "Iteration: 8, Objective: 0.3075\n",
      "Iteration: 9, Objective: 0.3075\n"
     ]
    }
   ],
   "source": [
    "boolean_model = BooleanRuleCG()\n",
    "explainer = BRCGExplainer(boolean_model)\n",
    "explainer.fit(X_train_fb, y_train)"
   ]
  },
  {
   "cell_type": "code",
   "execution_count": 84,
   "metadata": {},
   "outputs": [],
   "source": [
    "Y_pred = explainer.predict(X_test_fb)"
   ]
  },
  {
   "cell_type": "code",
   "execution_count": 85,
   "metadata": {},
   "outputs": [
    {
     "name": "stdout",
     "output_type": "stream",
     "text": [
      "Accuracy = 0.5997073170731707\n",
      "Precision = 0.1224849576514774\n",
      "Recall = 0.6499898311978849\n",
      "F1 = 0.20612705578845536\n"
     ]
    }
   ],
   "source": [
    "from sklearn.metrics import accuracy_score, precision_score, recall_score, f1_score\n",
    "print(f'Accuracy = {accuracy_score(y_test, Y_pred)}')\n",
    "print(f'Precision = {precision_score(y_test, Y_pred)}')\n",
    "print(f'Recall = {recall_score(y_test, Y_pred)}')\n",
    "print(f'F1 = {f1_score(y_test, Y_pred)}')"
   ]
  },
  {
   "cell_type": "code",
   "execution_count": 86,
   "metadata": {},
   "outputs": [
    {
     "name": "stdout",
     "output_type": "stream",
     "text": [
      "Predict Y=1 if ANY of the following rules are satisfied, otherwise Y=0:\n",
      "\n",
      "  - EXT_SOURCE_2 <= 0.55 AND EXT_SOURCE_3 <= 0.51\n",
      "  - EXT_SOURCE_2 <= 0.65 AND EXT_SOURCE_3 <= 0.61 AND EXT_SOURCE_3 > 0.51\n"
     ]
    }
   ],
   "source": [
    "e = explainer.explain()\n",
    "isCNF = 'Predict Y=0 if ANY of the following rules are satisfied, otherwise Y=1:'\n",
    "notCNF = 'Predict Y=1 if ANY of the following rules are satisfied, otherwise Y=0:'\n",
    "print(isCNF if e['isCNF'] else notCNF)\n",
    "print()\n",
    "for rule in e['rules']:\n",
    "    print(f'  - {rule}')"
   ]
  }
 ],
 "metadata": {
  "kernelspec": {
   "display_name": "Python 3",
   "language": "python",
   "name": "python3"
  },
  "language_info": {
   "codemirror_mode": {
    "name": "ipython",
    "version": 3
   },
   "file_extension": ".py",
   "mimetype": "text/x-python",
   "name": "python",
   "nbconvert_exporter": "python",
   "pygments_lexer": "ipython3",
   "version": "3.6.7"
  }
 },
 "nbformat": 4,
 "nbformat_minor": 2
}
