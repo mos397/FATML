{
 "cells": [
  {
   "cell_type": "code",
   "execution_count": 1,
   "metadata": {},
   "outputs": [
    {
     "name": "stdout",
     "output_type": "stream",
     "text": [
      "Populating the interactive namespace from numpy and matplotlib\n"
     ]
    }
   ],
   "source": [
    "from pandas import DataFrame, Series\n",
    "import pandas as pd\n",
    "%pylab inline"
   ]
  },
  {
   "cell_type": "code",
   "execution_count": 2,
   "metadata": {},
   "outputs": [],
   "source": [
    "pd.set_option('display.max_rows', 500)\n",
    "pd.set_option('display.max_columns', 500)"
   ]
  },
  {
   "cell_type": "code",
   "execution_count": 3,
   "metadata": {},
   "outputs": [
    {
     "name": "stderr",
     "output_type": "stream",
     "text": [
      "C:\\Users\\catym\\Anaconda3\\lib\\site-packages\\IPython\\core\\interactiveshell.py:3057: DtypeWarning: Columns (15,19) have mixed types. Specify dtype option on import or set low_memory=False.\n",
      "  interactivity=interactivity, compiler=compiler, result=result)\n"
     ]
    }
   ],
   "source": [
    "# read in the main training csv\n",
    "prevapp = pd.read_csv('previous_application.csv', na_values=['','XNA','XAP'])"
   ]
  },
  {
   "cell_type": "code",
   "execution_count": 4,
   "metadata": {
    "scrolled": true
   },
   "outputs": [
    {
     "data": {
      "text/plain": [
       "array(['SK_ID_PREV', 'SK_ID_CURR', 'NAME_CONTRACT_TYPE', 'AMT_ANNUITY',\n",
       "       'AMT_APPLICATION', 'AMT_CREDIT', 'AMT_DOWN_PAYMENT',\n",
       "       'AMT_GOODS_PRICE', 'WEEKDAY_APPR_PROCESS_START',\n",
       "       'HOUR_APPR_PROCESS_START', 'FLAG_LAST_APPL_PER_CONTRACT',\n",
       "       'NFLAG_LAST_APPL_IN_DAY', 'RATE_DOWN_PAYMENT',\n",
       "       'RATE_INTEREST_PRIMARY', 'RATE_INTEREST_PRIVILEGED',\n",
       "       'NAME_CASH_LOAN_PURPOSE', 'NAME_CONTRACT_STATUS', 'DAYS_DECISION',\n",
       "       'NAME_PAYMENT_TYPE', 'CODE_REJECT_REASON', 'NAME_TYPE_SUITE',\n",
       "       'NAME_CLIENT_TYPE', 'NAME_GOODS_CATEGORY', 'NAME_PORTFOLIO',\n",
       "       'NAME_PRODUCT_TYPE', 'CHANNEL_TYPE', 'SELLERPLACE_AREA',\n",
       "       'NAME_SELLER_INDUSTRY', 'CNT_PAYMENT', 'NAME_YIELD_GROUP',\n",
       "       'PRODUCT_COMBINATION', 'DAYS_FIRST_DRAWING', 'DAYS_FIRST_DUE',\n",
       "       'DAYS_LAST_DUE_1ST_VERSION', 'DAYS_LAST_DUE', 'DAYS_TERMINATION',\n",
       "       'NFLAG_INSURED_ON_APPROVAL'], dtype=object)"
      ]
     },
     "execution_count": 4,
     "metadata": {},
     "output_type": "execute_result"
    }
   ],
   "source": [
    "prevapp.columns.values"
   ]
  },
  {
   "cell_type": "code",
   "execution_count": 44,
   "metadata": {},
   "outputs": [],
   "source": [
    "import pandas as pd \n",
    "prevapp = pd.read_csv('prevapp_train.csv', na_values=['','XNA','XAP'])"
   ]
  },
  {
   "cell_type": "markdown",
   "metadata": {},
   "source": [
    "## CNT_Payment - Term of Loans "
   ]
  },
  {
   "cell_type": "code",
   "execution_count": 45,
   "metadata": {
    "scrolled": false
   },
   "outputs": [
    {
     "name": "stdout",
     "output_type": "stream",
     "text": [
      "The percentage of missing values for middle interest yield is\n"
     ]
    },
    {
     "data": {
      "text/plain": [
       "0.0"
      ]
     },
     "execution_count": 45,
     "metadata": {},
     "output_type": "execute_result"
    }
   ],
   "source": [
    "CNT = prevapp[['SK_ID_PREV' , 'SK_ID_CURR', 'NAME_CONTRACT_STATUS','CNT_PAYMENT']]\n",
    "CNT.head(5)\n",
    "CNT.fillna(CNT['CNT_PAYMENT'].median(),inplace=True)\n",
    "a2=len(CNT[CNT['CNT_PAYMENT'].isna()])\n",
    "b2 = len(CNT['CNT_PAYMENT'])\n",
    "print(\"The percentage of missing values for middle interest yield is\")\n",
    "float(a2/b2)\n"
   ]
  },
  {
   "cell_type": "code",
   "execution_count": 46,
   "metadata": {},
   "outputs": [
    {
     "data": {
      "text/html": [
       "<div>\n",
       "<style scoped>\n",
       "    .dataframe tbody tr th:only-of-type {\n",
       "        vertical-align: middle;\n",
       "    }\n",
       "\n",
       "    .dataframe tbody tr th {\n",
       "        vertical-align: top;\n",
       "    }\n",
       "\n",
       "    .dataframe thead th {\n",
       "        text-align: right;\n",
       "    }\n",
       "</style>\n",
       "<table border=\"1\" class=\"dataframe\">\n",
       "  <thead>\n",
       "    <tr style=\"text-align: right;\">\n",
       "      <th></th>\n",
       "      <th>SK_ID_CURR</th>\n",
       "      <th>min</th>\n",
       "      <th>max</th>\n",
       "      <th>mean</th>\n",
       "    </tr>\n",
       "  </thead>\n",
       "  <tbody>\n",
       "    <tr>\n",
       "      <th>0</th>\n",
       "      <td>100002</td>\n",
       "      <td>24.0</td>\n",
       "      <td>24.0</td>\n",
       "      <td>24.0</td>\n",
       "    </tr>\n",
       "    <tr>\n",
       "      <th>1</th>\n",
       "      <td>100003</td>\n",
       "      <td>6.0</td>\n",
       "      <td>12.0</td>\n",
       "      <td>9.0</td>\n",
       "    </tr>\n",
       "    <tr>\n",
       "      <th>2</th>\n",
       "      <td>100004</td>\n",
       "      <td>4.0</td>\n",
       "      <td>4.0</td>\n",
       "      <td>4.0</td>\n",
       "    </tr>\n",
       "    <tr>\n",
       "      <th>3</th>\n",
       "      <td>100006</td>\n",
       "      <td>0.0</td>\n",
       "      <td>48.0</td>\n",
       "      <td>18.0</td>\n",
       "    </tr>\n",
       "    <tr>\n",
       "      <th>4</th>\n",
       "      <td>100007</td>\n",
       "      <td>18.0</td>\n",
       "      <td>48.0</td>\n",
       "      <td>30.0</td>\n",
       "    </tr>\n",
       "  </tbody>\n",
       "</table>\n",
       "</div>"
      ],
      "text/plain": [
       "   SK_ID_CURR   min   max  mean\n",
       "0      100002  24.0  24.0  24.0\n",
       "1      100003   6.0  12.0   9.0\n",
       "2      100004   4.0   4.0   4.0\n",
       "3      100006   0.0  48.0  18.0\n",
       "4      100007  18.0  48.0  30.0"
      ]
     },
     "execution_count": 46,
     "metadata": {},
     "output_type": "execute_result"
    }
   ],
   "source": [
    "CNT_gp=CNT.groupby('SK_ID_CURR')[['CNT_PAYMENT']].agg(['min' , 'max', 'mean'])\n",
    "CNT_gb_df = pd.DataFrame(CNT_gp)\n",
    "CNT_gb_df\n",
    "CNT_gb_df.columns = CNT_gb_df.columns.get_level_values(1)\n",
    "prevapp_terms = CNT_gb_df.reset_index()\n",
    "prevapp_terms.head(5)\n"
   ]
  },
  {
   "cell_type": "code",
   "execution_count": 47,
   "metadata": {},
   "outputs": [
    {
     "data": {
      "text/html": [
       "<div>\n",
       "<style scoped>\n",
       "    .dataframe tbody tr th:only-of-type {\n",
       "        vertical-align: middle;\n",
       "    }\n",
       "\n",
       "    .dataframe tbody tr th {\n",
       "        vertical-align: top;\n",
       "    }\n",
       "\n",
       "    .dataframe thead th {\n",
       "        text-align: right;\n",
       "    }\n",
       "</style>\n",
       "<table border=\"1\" class=\"dataframe\">\n",
       "  <thead>\n",
       "    <tr style=\"text-align: right;\">\n",
       "      <th></th>\n",
       "      <th>SK_ID_CURR</th>\n",
       "      <th>min_term</th>\n",
       "      <th>max_term</th>\n",
       "      <th>mean_term</th>\n",
       "    </tr>\n",
       "  </thead>\n",
       "  <tbody>\n",
       "    <tr>\n",
       "      <th>0</th>\n",
       "      <td>100002</td>\n",
       "      <td>24.0</td>\n",
       "      <td>24.0</td>\n",
       "      <td>24.0</td>\n",
       "    </tr>\n",
       "    <tr>\n",
       "      <th>1</th>\n",
       "      <td>100003</td>\n",
       "      <td>6.0</td>\n",
       "      <td>12.0</td>\n",
       "      <td>9.0</td>\n",
       "    </tr>\n",
       "    <tr>\n",
       "      <th>2</th>\n",
       "      <td>100004</td>\n",
       "      <td>4.0</td>\n",
       "      <td>4.0</td>\n",
       "      <td>4.0</td>\n",
       "    </tr>\n",
       "    <tr>\n",
       "      <th>3</th>\n",
       "      <td>100006</td>\n",
       "      <td>0.0</td>\n",
       "      <td>48.0</td>\n",
       "      <td>18.0</td>\n",
       "    </tr>\n",
       "    <tr>\n",
       "      <th>4</th>\n",
       "      <td>100007</td>\n",
       "      <td>18.0</td>\n",
       "      <td>48.0</td>\n",
       "      <td>30.0</td>\n",
       "    </tr>\n",
       "  </tbody>\n",
       "</table>\n",
       "</div>"
      ],
      "text/plain": [
       "   SK_ID_CURR  min_term  max_term  mean_term\n",
       "0      100002      24.0      24.0       24.0\n",
       "1      100003       6.0      12.0        9.0\n",
       "2      100004       4.0       4.0        4.0\n",
       "3      100006       0.0      48.0       18.0\n",
       "4      100007      18.0      48.0       30.0"
      ]
     },
     "execution_count": 47,
     "metadata": {},
     "output_type": "execute_result"
    }
   ],
   "source": [
    "prevapp_terms.rename(columns={\"min\": \"min_term\", \"max\":\"max_term\",\\\n",
    "  \"mean\": \"mean_term\"                            },\n",
    "                      inplace=True)\n",
    "prevapp_terms.head(5)"
   ]
  },
  {
   "cell_type": "markdown",
   "metadata": {},
   "source": [
    "## Days_Termination\n",
    "### Relative to application date of current application when was the expected termination of the previous application"
   ]
  },
  {
   "cell_type": "code",
   "execution_count": 48,
   "metadata": {},
   "outputs": [],
   "source": [
    "days_terminat = prevapp[['SK_ID_PREV' , 'SK_ID_CURR', 'DAYS_TERMINATION']]"
   ]
  },
  {
   "cell_type": "code",
   "execution_count": 49,
   "metadata": {
    "scrolled": true
   },
   "outputs": [
    {
     "name": "stdout",
     "output_type": "stream",
     "text": [
      "The percentage of missing values for middle interest yield is\n"
     ]
    },
    {
     "data": {
      "text/plain": [
       "0.0"
      ]
     },
     "execution_count": 49,
     "metadata": {},
     "output_type": "execute_result"
    }
   ],
   "source": [
    "day_terminat= days_terminat.groupby('SK_ID_CURR')['DAYS_TERMINATION'].max()\n",
    "prevapp_termination_days= pd.DataFrame(day_terminat).reset_index()\n",
    "prevapp_termination_days.head(7)\n",
    "prevapp_termination_days.fillna(prevapp_termination_days['DAYS_TERMINATION'].mean(),inplace=True)\n",
    "prevapp_termination_days['DAYS_TERMINATION'].value_counts()/prevapp_termination_days['DAYS_TERMINATION'].value_counts().sum()\n",
    "prevapp_termination_days['DAYS_TERMINATION'].replace(365243,0,inplace= True)\n",
    "prevapp_termination_days.head(5)\n",
    "a2=len(prevapp_termination_days[prevapp_termination_days['DAYS_TERMINATION'].isna()])\n",
    "b2 = len(prevapp_termination_days['DAYS_TERMINATION'])\n",
    "print(\"The percentage of missing values for middle interest yield is\")\n",
    "float(a2/b2)"
   ]
  },
  {
   "cell_type": "markdown",
   "metadata": {},
   "source": [
    "## Combining prevapp_terms, prevapp_interest_yield, prevapp_termination_days"
   ]
  },
  {
   "cell_type": "code",
   "execution_count": 64,
   "metadata": {},
   "outputs": [
    {
     "name": "stdout",
     "output_type": "stream",
     "text": [
      "262331\n",
      "262331\n"
     ]
    }
   ],
   "source": [
    "merge0=prevapp_terms.merge(prevapp_termination_days, on = \"SK_ID_CURR\")\n",
    "print(len(merge0))\n",
    "merge0.head(5)\n",
    "prevapp_final_train = pd.read_csv('prevapp_final_train.csv', na_values=['','XNA','XAP'])\n",
    "merge0.rename(columns={\"SK_ID_CURR\": \"ID_CURR\"}, inplace=True)\n",
    "prevapp_finally_train = prevapp_final_train.merge(merge0, on='ID_CURR')\n",
    "print(len(prevapp_finally_train))\n",
    "prevapp_finally_train.head(5)\n",
    "prevapp_finally_train.to_csv('prevapp_finally_train.csv',index=False)"
   ]
  },
  {
   "cell_type": "markdown",
   "metadata": {},
   "source": [
    "Categorical variables:\n",
    "SK_ID_PREV --------------------------\n",
    "SK_ID_CURR --------------------------\n",
    "NAME_CONTRACT_TYPE\n",
    "WEEKDAY_APPR_PROCESS_START\n",
    "HOUR_APPR_PROCESS_START -------------\n",
    "FLAG_LAST_APPL_PER_CONTRACT\n",
    "NFLAG_LAST_APPL_IN_DAY --------------\n",
    "NAME_CASH_LOAN_PURPOSE\n",
    "NAME_CONTRACT_STATUS\n",
    "NAME_PAYMENT_TYPE\n",
    "CODE_REJECT_REASON\n",
    "NAME_TYPE_SUITE\n",
    "NAME_CLIENT_TYPE\n",
    "NAME_GOODS_CATEGORY\n",
    "NAME_PORTFOLIO\n",
    "NAME_PORTFOLIO_TYPE\n",
    "CHANNEL_TYPE\n",
    "SELLERPLACE_AREA -------------------\n",
    "NAME_SELLER_INDUSTRY\n",
    "NAME_YIELD_GROUP\n",
    "PRODUCT_COMBINATION\n",
    "NFLAG_INSURED_ON_APPROVAL --------"
   ]
  }
 ],
 "metadata": {
  "kernelspec": {
   "display_name": "Python 3",
   "language": "python",
   "name": "python3"
  },
  "language_info": {
   "codemirror_mode": {
    "name": "ipython",
    "version": 3
   },
   "file_extension": ".py",
   "mimetype": "text/x-python",
   "name": "python",
   "nbconvert_exporter": "python",
   "pygments_lexer": "ipython3",
   "version": "3.6.9"
  }
 },
 "nbformat": 4,
 "nbformat_minor": 2
}
